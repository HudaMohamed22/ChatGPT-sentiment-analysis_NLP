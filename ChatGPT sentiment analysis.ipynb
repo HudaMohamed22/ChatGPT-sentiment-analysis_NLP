{
  "cells": [
    {
      "cell_type": "markdown",
      "source": [
        "**Installing Keras**\n",
        "\n",
        "---\n"
      ],
      "metadata": {
        "id": "yFSdgd3jFWhj"
      }
    },
    {
      "cell_type": "code",
      "source": [
        "!pip install keras\n",
        "!pip install keras_preprocessing\n",
        "!pip install --upgrade keras"
      ],
      "metadata": {
        "id": "whRFYnYGFF9B",
        "outputId": "290d0903-1340-49ef-aec2-3ab3900eb577",
        "colab": {
          "base_uri": "https://localhost:8080/"
        }
      },
      "execution_count": 4,
      "outputs": [
        {
          "output_type": "stream",
          "name": "stdout",
          "text": [
            "Looking in indexes: https://pypi.org/simple, https://us-python.pkg.dev/colab-wheels/public/simple/\n",
            "Requirement already satisfied: keras in /usr/local/lib/python3.10/dist-packages (2.12.0)\n",
            "Looking in indexes: https://pypi.org/simple, https://us-python.pkg.dev/colab-wheels/public/simple/\n",
            "Requirement already satisfied: keras_preprocessing in /usr/local/lib/python3.10/dist-packages (1.1.2)\n",
            "Requirement already satisfied: numpy>=1.9.1 in /usr/local/lib/python3.10/dist-packages (from keras_preprocessing) (1.22.4)\n",
            "Requirement already satisfied: six>=1.9.0 in /usr/local/lib/python3.10/dist-packages (from keras_preprocessing) (1.16.0)\n",
            "Looking in indexes: https://pypi.org/simple, https://us-python.pkg.dev/colab-wheels/public/simple/\n",
            "Requirement already satisfied: keras in /usr/local/lib/python3.10/dist-packages (2.12.0)\n"
          ]
        }
      ]
    },
    {
      "cell_type": "markdown",
      "source": [
        " **Imports**\n",
        "\n",
        "\n",
        "\n",
        "---\n",
        "\n",
        "\n"
      ],
      "metadata": {
        "id": "XmjUmMVeGfYY"
      }
    },
    {
      "cell_type": "code",
      "source": [
        "import os\n",
        "import sys\n",
        "import numpy as np\n",
        "import pandas as pd\n",
        "from keras.models import Sequential\n",
        "from keras.layers import Input, LSTM, Dense\n",
        "import keras.backend as K\n",
        "from keras.preprocessing.text import Tokenizer\n",
        "from keras_preprocessing.sequence import pad_sequences\n",
        "from keras.utils import to_categorical\n",
        "from keras.layers import Embedding\n",
        "from keras.models import Sequential\n",
        "from keras.layers import Dense, Input, GlobalMaxPooling1D\n",
        "from keras.layers.core import Activation, Dropout\n",
        "from keras.layers import Conv1D, MaxPooling1D, Embedding, Flatten\n",
        "\n",
        "from keras.models import Model\n",
        "import re\n",
        "from google.colab import drive"
      ],
      "metadata": {
        "id": "4RoRldo7E4I2"
      },
      "execution_count": 5,
      "outputs": []
    },
    {
      "cell_type": "markdown",
      "source": [
        " **Imports**\n",
        "\n",
        "\n",
        "\n",
        "---\n",
        "\n",
        "\n"
      ],
      "metadata": {
        "id": "tHuMFS9ZFqhu"
      }
    },
    {
      "cell_type": "code",
      "execution_count": 6,
      "metadata": {
        "id": "IBvFQdh48xRk",
        "outputId": "f38dd892-0c94-4041-9d57-6939160b87f9",
        "colab": {
          "base_uri": "https://localhost:8080/"
        }
      },
      "outputs": [
        {
          "output_type": "stream",
          "name": "stdout",
          "text": [
            "Cloning into 'ChatGPT_Sentiment_Analysis'...\n",
            "remote: Enumerating objects: 20, done.\u001b[K\n",
            "remote: Counting objects: 100% (20/20), done.\u001b[K\n",
            "remote: Compressing objects: 100% (18/18), done.\u001b[K\n",
            "remote: Total 20 (delta 5), reused 0 (delta 0), pack-reused 0\u001b[K\n",
            "Unpacking objects: 100% (20/20), 27.36 MiB | 9.73 MiB/s, done.\n"
          ]
        }
      ],
      "source": [
        "!git clone https://github.com/bassantsamerr/ChatGPT_Sentiment_Analysis.git\n"
      ]
    },
    {
      "cell_type": "code",
      "execution_count": 7,
      "metadata": {
        "id": "RURSY0aX86F9",
        "outputId": "86916e2f-d79a-4a69-b64f-f3556ab5e2fb",
        "colab": {
          "base_uri": "https://localhost:8080/"
        }
      },
      "outputs": [
        {
          "output_type": "stream",
          "name": "stdout",
          "text": [
            "/content/ChatGPT_Sentiment_Analysis\n"
          ]
        }
      ],
      "source": [
        "%cd ChatGPT_Sentiment_Analysis/"
      ]
    },
    {
      "cell_type": "code",
      "execution_count": 8,
      "metadata": {
        "id": "VIRxLqa79Jhq",
        "outputId": "80be465a-f93b-421d-f0c0-5d4aadf225ad",
        "colab": {
          "base_uri": "https://localhost:8080/"
        }
      },
      "outputs": [
        {
          "output_type": "stream",
          "name": "stdout",
          "text": [
            "Archive:  ezyzip.zip\n",
            "  inflating: file.csv                \n"
          ]
        }
      ],
      "source": [
        "!unzip ezyzip.zip"
      ]
    },
    {
      "cell_type": "code",
      "execution_count": 9,
      "metadata": {
        "id": "bwTDvhFs9UIc",
        "outputId": "f5429cac-837c-402e-b686-0906971aa9d4",
        "colab": {
          "base_uri": "https://localhost:8080/"
        }
      },
      "outputs": [
        {
          "output_type": "execute_result",
          "data": {
            "text/plain": [
              "(219294, 3)"
            ]
          },
          "metadata": {},
          "execution_count": 9
        }
      ],
      "source": [
        "import pandas as pd\n",
        "df = pd.read_csv('file.csv')\n",
        "df.shape"
      ]
    },
    {
      "cell_type": "markdown",
      "source": [
        "**Imports for datapreprocessing**\n",
        "\n",
        "---\n",
        "\n"
      ],
      "metadata": {
        "id": "dusdid-BHPuw"
      }
    },
    {
      "cell_type": "code",
      "execution_count": 10,
      "metadata": {
        "id": "qBXpu0jLS3gm",
        "outputId": "274f2d22-deb2-4b52-c4ad-36c368c06f25",
        "colab": {
          "base_uri": "https://localhost:8080/"
        }
      },
      "outputs": [
        {
          "output_type": "stream",
          "name": "stderr",
          "text": [
            "[nltk_data] Downloading package stopwords to /root/nltk_data...\n",
            "[nltk_data]   Unzipping corpora/stopwords.zip.\n",
            "[nltk_data] Downloading package wordnet to /root/nltk_data...\n"
          ]
        }
      ],
      "source": [
        "#used in datapreprocessing\n",
        "import nltk\n",
        "nltk.download('stopwords')\n",
        "nltk.download('wordnet')\n",
        "from nltk.stem import WordNetLemmatizer\n",
        "from nltk.corpus import stopwords\n",
        "from gensim.parsing.preprocessing import remove_stopwords"
      ]
    },
    {
      "cell_type": "code",
      "execution_count": 11,
      "metadata": {
        "id": "lHw5vNeGdonM",
        "outputId": "da28394f-01eb-4dc4-e0b0-e5da5425dba9",
        "colab": {
          "base_uri": "https://localhost:8080/",
          "height": 237
        }
      },
      "outputs": [
        {
          "output_type": "execute_result",
          "data": {
            "text/plain": [
              "   Unnamed: 0                                             tweets   labels\n",
              "0           0  ChatGPT: Optimizing Language Models for Dialog...  neutral\n",
              "1           1  Try talking with ChatGPT, our new AI system wh...     good\n",
              "2           2  ChatGPT: Optimizing Language Models for Dialog...  neutral\n",
              "3           3  THRILLED to share that ChatGPT, our new model ...     good\n",
              "4           4  As of 2 minutes ago, @OpenAI released their ne...      bad\n",
              "5           5  Just launched ChatGPT, our new AI system which...     good"
            ],
            "text/html": [
              "\n",
              "  <div id=\"df-b01652d8-197e-429c-9bc3-daca94a647fd\">\n",
              "    <div class=\"colab-df-container\">\n",
              "      <div>\n",
              "<style scoped>\n",
              "    .dataframe tbody tr th:only-of-type {\n",
              "        vertical-align: middle;\n",
              "    }\n",
              "\n",
              "    .dataframe tbody tr th {\n",
              "        vertical-align: top;\n",
              "    }\n",
              "\n",
              "    .dataframe thead th {\n",
              "        text-align: right;\n",
              "    }\n",
              "</style>\n",
              "<table border=\"1\" class=\"dataframe\">\n",
              "  <thead>\n",
              "    <tr style=\"text-align: right;\">\n",
              "      <th></th>\n",
              "      <th>Unnamed: 0</th>\n",
              "      <th>tweets</th>\n",
              "      <th>labels</th>\n",
              "    </tr>\n",
              "  </thead>\n",
              "  <tbody>\n",
              "    <tr>\n",
              "      <th>0</th>\n",
              "      <td>0</td>\n",
              "      <td>ChatGPT: Optimizing Language Models for Dialog...</td>\n",
              "      <td>neutral</td>\n",
              "    </tr>\n",
              "    <tr>\n",
              "      <th>1</th>\n",
              "      <td>1</td>\n",
              "      <td>Try talking with ChatGPT, our new AI system wh...</td>\n",
              "      <td>good</td>\n",
              "    </tr>\n",
              "    <tr>\n",
              "      <th>2</th>\n",
              "      <td>2</td>\n",
              "      <td>ChatGPT: Optimizing Language Models for Dialog...</td>\n",
              "      <td>neutral</td>\n",
              "    </tr>\n",
              "    <tr>\n",
              "      <th>3</th>\n",
              "      <td>3</td>\n",
              "      <td>THRILLED to share that ChatGPT, our new model ...</td>\n",
              "      <td>good</td>\n",
              "    </tr>\n",
              "    <tr>\n",
              "      <th>4</th>\n",
              "      <td>4</td>\n",
              "      <td>As of 2 minutes ago, @OpenAI released their ne...</td>\n",
              "      <td>bad</td>\n",
              "    </tr>\n",
              "    <tr>\n",
              "      <th>5</th>\n",
              "      <td>5</td>\n",
              "      <td>Just launched ChatGPT, our new AI system which...</td>\n",
              "      <td>good</td>\n",
              "    </tr>\n",
              "  </tbody>\n",
              "</table>\n",
              "</div>\n",
              "      <button class=\"colab-df-convert\" onclick=\"convertToInteractive('df-b01652d8-197e-429c-9bc3-daca94a647fd')\"\n",
              "              title=\"Convert this dataframe to an interactive table.\"\n",
              "              style=\"display:none;\">\n",
              "        \n",
              "  <svg xmlns=\"http://www.w3.org/2000/svg\" height=\"24px\"viewBox=\"0 0 24 24\"\n",
              "       width=\"24px\">\n",
              "    <path d=\"M0 0h24v24H0V0z\" fill=\"none\"/>\n",
              "    <path d=\"M18.56 5.44l.94 2.06.94-2.06 2.06-.94-2.06-.94-.94-2.06-.94 2.06-2.06.94zm-11 1L8.5 8.5l.94-2.06 2.06-.94-2.06-.94L8.5 2.5l-.94 2.06-2.06.94zm10 10l.94 2.06.94-2.06 2.06-.94-2.06-.94-.94-2.06-.94 2.06-2.06.94z\"/><path d=\"M17.41 7.96l-1.37-1.37c-.4-.4-.92-.59-1.43-.59-.52 0-1.04.2-1.43.59L10.3 9.45l-7.72 7.72c-.78.78-.78 2.05 0 2.83L4 21.41c.39.39.9.59 1.41.59.51 0 1.02-.2 1.41-.59l7.78-7.78 2.81-2.81c.8-.78.8-2.07 0-2.86zM5.41 20L4 18.59l7.72-7.72 1.47 1.35L5.41 20z\"/>\n",
              "  </svg>\n",
              "      </button>\n",
              "      \n",
              "  <style>\n",
              "    .colab-df-container {\n",
              "      display:flex;\n",
              "      flex-wrap:wrap;\n",
              "      gap: 12px;\n",
              "    }\n",
              "\n",
              "    .colab-df-convert {\n",
              "      background-color: #E8F0FE;\n",
              "      border: none;\n",
              "      border-radius: 50%;\n",
              "      cursor: pointer;\n",
              "      display: none;\n",
              "      fill: #1967D2;\n",
              "      height: 32px;\n",
              "      padding: 0 0 0 0;\n",
              "      width: 32px;\n",
              "    }\n",
              "\n",
              "    .colab-df-convert:hover {\n",
              "      background-color: #E2EBFA;\n",
              "      box-shadow: 0px 1px 2px rgba(60, 64, 67, 0.3), 0px 1px 3px 1px rgba(60, 64, 67, 0.15);\n",
              "      fill: #174EA6;\n",
              "    }\n",
              "\n",
              "    [theme=dark] .colab-df-convert {\n",
              "      background-color: #3B4455;\n",
              "      fill: #D2E3FC;\n",
              "    }\n",
              "\n",
              "    [theme=dark] .colab-df-convert:hover {\n",
              "      background-color: #434B5C;\n",
              "      box-shadow: 0px 1px 3px 1px rgba(0, 0, 0, 0.15);\n",
              "      filter: drop-shadow(0px 1px 2px rgba(0, 0, 0, 0.3));\n",
              "      fill: #FFFFFF;\n",
              "    }\n",
              "  </style>\n",
              "\n",
              "      <script>\n",
              "        const buttonEl =\n",
              "          document.querySelector('#df-b01652d8-197e-429c-9bc3-daca94a647fd button.colab-df-convert');\n",
              "        buttonEl.style.display =\n",
              "          google.colab.kernel.accessAllowed ? 'block' : 'none';\n",
              "\n",
              "        async function convertToInteractive(key) {\n",
              "          const element = document.querySelector('#df-b01652d8-197e-429c-9bc3-daca94a647fd');\n",
              "          const dataTable =\n",
              "            await google.colab.kernel.invokeFunction('convertToInteractive',\n",
              "                                                     [key], {});\n",
              "          if (!dataTable) return;\n",
              "\n",
              "          const docLinkHtml = 'Like what you see? Visit the ' +\n",
              "            '<a target=\"_blank\" href=https://colab.research.google.com/notebooks/data_table.ipynb>data table notebook</a>'\n",
              "            + ' to learn more about interactive tables.';\n",
              "          element.innerHTML = '';\n",
              "          dataTable['output_type'] = 'display_data';\n",
              "          await google.colab.output.renderOutput(dataTable, element);\n",
              "          const docLink = document.createElement('div');\n",
              "          docLink.innerHTML = docLinkHtml;\n",
              "          element.appendChild(docLink);\n",
              "        }\n",
              "      </script>\n",
              "    </div>\n",
              "  </div>\n",
              "  "
            ]
          },
          "metadata": {},
          "execution_count": 11
        }
      ],
      "source": [
        "df.head(6)"
      ]
    },
    {
      "cell_type": "markdown",
      "source": [
        "***Extract tweets and categories from data***\n",
        "\n",
        "---\n",
        "\n"
      ],
      "metadata": {
        "id": "SNJdze2s7YTR"
      }
    },
    {
      "cell_type": "code",
      "execution_count": 12,
      "metadata": {
        "id": "ZAS7AYG2eLkt",
        "outputId": "9413d9aa-7c67-40a9-abf0-f5a5f16ee55b",
        "colab": {
          "base_uri": "https://localhost:8080/"
        }
      },
      "outputs": [
        {
          "output_type": "execute_result",
          "data": {
            "text/plain": [
              "(219294,)"
            ]
          },
          "metadata": {},
          "execution_count": 12
        }
      ],
      "source": [
        "#get x\n",
        "tweets = df['tweets'].values\n",
        "tweets.shape\n",
        "\n",
        "#get y\n",
        "labels=df['labels'].values\n",
        "labels.shape\n"
      ]
    },
    {
      "cell_type": "markdown",
      "source": [
        "**Convert good, bad ,neutral to numerical **\n",
        "\n",
        "---\n",
        "\n"
      ],
      "metadata": {
        "id": "MdVoqet675FW"
      }
    },
    {
      "cell_type": "code",
      "execution_count": 13,
      "metadata": {
        "id": "-ESdlp926hyh",
        "outputId": "976da3eb-f3f3-4497-a6f3-f20f0ea3e208",
        "colab": {
          "base_uri": "https://localhost:8080/"
        }
      },
      "outputs": [
        {
          "output_type": "stream",
          "name": "stdout",
          "text": [
            "219294\n"
          ]
        },
        {
          "output_type": "execute_result",
          "data": {
            "text/plain": [
              "array([2, 1, 2, ..., 0, 0, 2])"
            ]
          },
          "metadata": {},
          "execution_count": 13
        }
      ],
      "source": [
        "\n",
        "y_labels=labels\n",
        "\n",
        "y_labels= np.array(list(map(lambda x: 1 if x==\"good\" else 0 if x==\"bad\" else 2, y_labels)))\n",
        "\n",
        "print(y_labels.size)\n",
        "y_labels\n"
      ]
    },
    {
      "cell_type": "code",
      "source": [
        "mapping = {1: \"good\", 0: \"bad\", 2: \"natural\"}"
      ],
      "metadata": {
        "id": "gjnymPxBZfAR"
      },
      "execution_count": 14,
      "outputs": []
    },
    {
      "cell_type": "markdown",
      "source": [
        "**Function of Data Cleaning**\n",
        "\n",
        "---\n",
        "\n"
      ],
      "metadata": {
        "id": "XteJAfUuM1dh"
      }
    },
    {
      "cell_type": "code",
      "execution_count": 15,
      "metadata": {
        "id": "ycf4o8-WL6wZ"
      },
      "outputs": [],
      "source": [
        "#Basic Data Cleaning fucntion\n",
        "\n",
        "def text_preprocess(processedTweet):\n",
        "   \n",
        "   # remove links\n",
        "    processedTweet = re.sub(r'http\\S+', ' ', processedTweet)\n",
        "   \n",
        "   # Remove punctuations and numbers\n",
        "    processedTweet = re.sub('[^a-zA-Z]', ' ',processedTweet)\n",
        "\n",
        "    # Single character removal\n",
        "    processedTweet = re.sub(r\"\\s+[a-zA-Z]\\s+\", ' ', processedTweet)\n",
        "\n",
        "    # make it small\n",
        "    processedTweet = processedTweet.lower()\n",
        "    \n",
        "    \n",
        "      # to be abble to apply lemmatizer\n",
        "    processedTweet = processedTweet.split()\n",
        "    lemmatizer = WordNetLemmatizer()\n",
        "    processedTweet = [lemmatizer.lemmatize(w) for w in processedTweet ]\n",
        "    return ( \" \".join(processedTweet))\n"
      ]
    },
    {
      "cell_type": "markdown",
      "source": [
        "**Apply Data Cleaning to dataset**\n",
        "\n",
        "\n",
        "\n",
        "\n",
        "---\n",
        "\n"
      ],
      "metadata": {
        "id": "Sop4oBkk8Kjk"
      }
    },
    {
      "cell_type": "code",
      "execution_count": 16,
      "metadata": {
        "id": "mdG5kK0OnItP"
      },
      "outputs": [],
      "source": [
        "X_processed_Tweets = []\n",
        "for i in range(len(tweets)):\n",
        "    if text_preprocess(tweets[i]):\n",
        "        X_processed_Tweets.append(text_preprocess(tweets[i]))\n",
        "    else :\n",
        "        y_labels= np.delete(y_labels, i)\n",
        "        df = df.drop(i)\n",
        "\n",
        "#X_procssed_Tweets    \n",
        "\n",
        "\n",
        "    "
      ]
    },
    {
      "cell_type": "markdown",
      "source": [
        "**Initialize global params**\n",
        "\n",
        "---\n",
        "\n"
      ],
      "metadata": {
        "id": "uPqDdWKZ8bBg"
      }
    },
    {
      "cell_type": "code",
      "execution_count": 17,
      "metadata": {
        "id": "_YXIQqW0qxiE"
      },
      "outputs": [],
      "source": [
        "MAX_NUM_WORDS = 100000\n",
        "maxLen=1000"
      ]
    },
    {
      "cell_type": "markdown",
      "source": [
        "Apply tokenization\n",
        "\n",
        "---\n",
        "\n"
      ],
      "metadata": {
        "id": "igO_yh0A80ip"
      }
    },
    {
      "cell_type": "code",
      "execution_count": 18,
      "metadata": {
        "id": "SXscJuwOq4Wy"
      },
      "outputs": [],
      "source": [
        "tokenizer = Tokenizer(num_words=MAX_NUM_WORDS)\n",
        "tokenizer.fit_on_texts(X_processed_Tweets)\n",
        "\n",
        "sequences = tokenizer.texts_to_sequences(X_processed_Tweets)\n",
        "SVM_tweets=X_processed_Tweets\n",
        "\n"
      ]
    },
    {
      "cell_type": "markdown",
      "source": [
        "Apply padding\n",
        "\n",
        "---\n",
        "\n"
      ],
      "metadata": {
        "id": "v4-PEff49DwZ"
      }
    },
    {
      "cell_type": "code",
      "execution_count": 19,
      "metadata": {
        "id": "QIGBCyIvFDwA",
        "outputId": "70289ce8-5ca3-4b33-c215-45246153d9e4",
        "colab": {
          "base_uri": "https://localhost:8080/"
        }
      },
      "outputs": [
        {
          "output_type": "stream",
          "name": "stdout",
          "text": [
            "Found 87343 unique tokens.\n",
            "Shape of samples: (219289, 1000)\n",
            "Sampele:(the zeros at the begining are for padding text to max length)\n",
            "(219289, 1000)\n"
          ]
        }
      ],
      "source": [
        "\n",
        "word_index = tokenizer.word_index # the dictionary\n",
        "print('Found %s unique tokens.' % len(word_index))\n",
        "data = pad_sequences(sequences, maxlen=maxLen)\n",
        "print('Shape of samples:', data.shape)\n",
        "print('Sampele:(the zeros at the begining are for padding text to max length)')\n",
        "print(data.shape )"
      ]
    },
    {
      "cell_type": "markdown",
      "source": [
        "**Prepare output for Models**\n",
        "\n",
        "---\n",
        "\n"
      ],
      "metadata": {
        "id": "K8LkOO2N9PJS"
      }
    },
    {
      "cell_type": "code",
      "execution_count": 20,
      "metadata": {
        "id": "m-RBP32UI8ue",
        "outputId": "b6986b65-ab6e-460a-ed19-422548190591",
        "colab": {
          "base_uri": "https://localhost:8080/"
        }
      },
      "outputs": [
        {
          "output_type": "stream",
          "name": "stdout",
          "text": [
            "Shape of data tensor: (219289, 1000)\n",
            "Shape of label tensor: (219289, 3)\n",
            "Sample label:\n",
            " [0. 1. 0.]\n"
          ]
        }
      ],
      "source": [
        "labels_matrix = to_categorical(np.asarray(y_labels))\n",
        "print('Shape of data tensor:', data.shape)\n",
        "print('Shape of label tensor:', labels_matrix.shape)\n",
        "print('Sample label:\\n',labels_matrix[1])"
      ]
    },
    {
      "cell_type": "markdown",
      "source": [
        "**Split Data to train and test**\n",
        "\n",
        "--- "
      ],
      "metadata": {
        "id": "EoYcP28_B1JF"
      }
    },
    {
      "cell_type": "code",
      "execution_count": 21,
      "metadata": {
        "id": "3KwylXdHxfAs",
        "outputId": "bb732628-dc52-41a6-dfe0-a3737693a60e",
        "colab": {
          "base_uri": "https://localhost:8080/"
        }
      },
      "outputs": [
        {
          "output_type": "stream",
          "name": "stdout",
          "text": [
            "Shape of training data:  (175432, 1000)\n",
            "Shape of testing data:  (43857, 1000)\n"
          ]
        }
      ],
      "source": [
        "VALIDATION_SPLIT = 0.2\n",
        "indices = np.arange(len(X_processed_Tweets))\n",
        "np.random.shuffle(indices)\n",
        "indices\n",
        "\n",
        "data_shuffled = data[indices]\n",
        "labels_shuffled = labels_matrix[indices]\n",
        "\n",
        "num_test_samples = int(VALIDATION_SPLIT * data_shuffled.shape[0])\n",
        "\n",
        "\n",
        "x_train = data_shuffled[:-num_test_samples]\n",
        "y_train = labels_shuffled[:-num_test_samples]\n",
        "\n",
        "x_test = data_shuffled[-num_test_samples:]\n",
        "y_test = labels_shuffled[-num_test_samples:]\n",
        "\n",
        "print('Shape of training data: ',x_train.shape)\n",
        "print('Shape of testing data: ',x_test.shape)\n",
        "\n"
      ]
    },
    {
      "cell_type": "markdown",
      "source": [
        "** save data in train and test files **\n",
        "\n",
        "---\n",
        "\n"
      ],
      "metadata": {
        "id": "e5GH6lWQ9jd5"
      }
    },
    {
      "cell_type": "code",
      "source": [
        "df2=df.drop(df.columns[0], axis=1)\n",
        "df2=df2.iloc[indices]\n",
        "\n",
        "print(df2.shape)\n",
        "\n",
        "train_data_file=df2.iloc[:-num_test_samples]\n",
        "test_data_file=df2.iloc[-num_test_samples:]\n",
        "print(train_data_file.shape)\n",
        "print(test_data_file.shape)"
      ],
      "metadata": {
        "id": "1farVN4v8yDA",
        "outputId": "44c99773-f960-4ba8-a3c9-5847ea7fce38",
        "colab": {
          "base_uri": "https://localhost:8080/"
        }
      },
      "execution_count": 22,
      "outputs": [
        {
          "output_type": "stream",
          "name": "stdout",
          "text": [
            "(219289, 2)\n",
            "(175432, 2)\n",
            "(43857, 2)\n"
          ]
        }
      ]
    },
    {
      "cell_type": "code",
      "source": [
        "train_data_file.to_csv('train.csv', index=False)\n",
        "test_data_file.to_csv('test.csv', index=False)"
      ],
      "metadata": {
        "id": "zDi39FiN8y-9"
      },
      "execution_count": 23,
      "outputs": []
    },
    {
      "cell_type": "code",
      "execution_count": 24,
      "metadata": {
        "id": "vUdaS0TvrjlB"
      },
      "outputs": [],
      "source": [
        "#used in word embedding\n",
        "from numpy import array\n",
        "from numpy import asarray\n",
        "from numpy import zeros"
      ]
    },
    {
      "cell_type": "markdown",
      "source": [
        "**Load Glove**\n",
        "\n",
        "---\n",
        "\n"
      ],
      "metadata": {
        "id": "f7qi2VXqNmVW"
      }
    },
    {
      "cell_type": "code",
      "execution_count": 25,
      "metadata": {
        "id": "mIkT0kuPCtHm",
        "outputId": "29e1d8da-52a5-4b50-8510-22b3d5ad4b19",
        "colab": {
          "base_uri": "https://localhost:8080/"
        }
      },
      "outputs": [
        {
          "output_type": "stream",
          "name": "stdout",
          "text": [
            "--2023-05-15 15:48:06--  http://nlp.stanford.edu/data/glove.6B.zip\n",
            "Resolving nlp.stanford.edu (nlp.stanford.edu)... 171.64.67.140\n",
            "Connecting to nlp.stanford.edu (nlp.stanford.edu)|171.64.67.140|:80... connected.\n",
            "HTTP request sent, awaiting response... 302 Found\n",
            "Location: https://nlp.stanford.edu/data/glove.6B.zip [following]\n",
            "--2023-05-15 15:48:07--  https://nlp.stanford.edu/data/glove.6B.zip\n",
            "Connecting to nlp.stanford.edu (nlp.stanford.edu)|171.64.67.140|:443... connected.\n",
            "HTTP request sent, awaiting response... 301 Moved Permanently\n",
            "Location: https://downloads.cs.stanford.edu/nlp/data/glove.6B.zip [following]\n",
            "--2023-05-15 15:48:07--  https://downloads.cs.stanford.edu/nlp/data/glove.6B.zip\n",
            "Resolving downloads.cs.stanford.edu (downloads.cs.stanford.edu)... 171.64.64.22\n",
            "Connecting to downloads.cs.stanford.edu (downloads.cs.stanford.edu)|171.64.64.22|:443... connected.\n",
            "HTTP request sent, awaiting response... 200 OK\n",
            "Length: 862182613 (822M) [application/zip]\n",
            "Saving to: ‘glove.6B.zip’\n",
            "\n",
            "glove.6B.zip        100%[===================>] 822.24M  5.02MB/s    in 2m 39s  \n",
            "\n",
            "2023-05-15 15:50:47 (5.18 MB/s) - ‘glove.6B.zip’ saved [862182613/862182613]\n",
            "\n"
          ]
        }
      ],
      "source": [
        "!wget http://nlp.stanford.edu/data/glove.6B.zip"
      ]
    },
    {
      "cell_type": "code",
      "execution_count": 26,
      "metadata": {
        "id": "EcU9T4PuFXnZ",
        "outputId": "f699a53b-70db-4d47-c77c-d93c93525da6",
        "colab": {
          "base_uri": "https://localhost:8080/"
        }
      },
      "outputs": [
        {
          "output_type": "stream",
          "name": "stdout",
          "text": [
            "Archive:  glove.6B.zip\n",
            "  inflating: glove.6B.50d.txt        \n",
            "  inflating: glove.6B.100d.txt       \n",
            "  inflating: glove.6B.200d.txt       \n",
            "  inflating: glove.6B.300d.txt       \n"
          ]
        }
      ],
      "source": [
        "!unzip glove*.zip"
      ]
    },
    {
      "cell_type": "code",
      "execution_count": 27,
      "metadata": {
        "id": "mQAI_7P4FiRS",
        "outputId": "d61b2e95-a72f-4561-c9a9-33d17f2c9016",
        "colab": {
          "base_uri": "https://localhost:8080/"
        }
      },
      "outputs": [
        {
          "output_type": "stream",
          "name": "stdout",
          "text": [
            "ChatGPT_sentiment_analysis.ipynb  glove.6B.200d.txt  README.md\n",
            "ezyzip.zip                        glove.6B.300d.txt  test.csv\n",
            "file.csv                          glove.6B.50d.txt   train.csv\n",
            "glove.6B.100d.txt                 glove.6B.zip\n"
          ]
        }
      ],
      "source": [
        "%ls"
      ]
    },
    {
      "cell_type": "markdown",
      "source": [
        "**Extract data from Glov txt file**\n",
        "\n",
        "---\n",
        "\n"
      ],
      "metadata": {
        "id": "rVzVSUulbQKv"
      }
    },
    {
      "cell_type": "code",
      "execution_count": 28,
      "metadata": {
        "id": "RUKGrmez0SZt",
        "outputId": "171b6a66-b6c9-4753-f928-445e70359ab8",
        "colab": {
          "base_uri": "https://localhost:8080/"
        }
      },
      "outputs": [
        {
          "output_type": "stream",
          "name": "stdout",
          "text": [
            "Indexing word vectors.\n",
            "Found 400000 word vectors.\n"
          ]
        }
      ],
      "source": [
        "EMBEDDING_DIM = 300\n",
        "print('Indexing word vectors.')\n",
        "embeddings_dictionary = {}\n",
        "glove_file = open('glove.6B.300d.txt', encoding=\"utf8\")\n",
        "for line in glove_file:\n",
        "    values = line.split(sep=' ')\n",
        "    word = values[0]\n",
        "    coefs = np.asarray(values[1:], dtype='float32')\n",
        "    embeddings_dictionary[word] = coefs\n",
        "print('Found %s word vectors.' % len(embeddings_dictionary))"
      ]
    },
    {
      "cell_type": "markdown",
      "source": [
        "**Add Glov data to our dataset's words**\n",
        "\n",
        "---\n",
        "\n"
      ],
      "metadata": {
        "id": "JMK8QqAhbgRR"
      }
    },
    {
      "cell_type": "code",
      "execution_count": 29,
      "metadata": {
        "id": "G6Yg53PpCKul",
        "outputId": "3815f71b-5e6a-4c50-aade-e41ac3af334f",
        "colab": {
          "base_uri": "https://localhost:8080/"
        }
      },
      "outputs": [
        {
          "output_type": "stream",
          "name": "stdout",
          "text": [
            "Shape of Embedding Matrix:  (87344, 300)\n"
          ]
        }
      ],
      "source": [
        "vocab_size = len(word_index) + 1\n",
        "embedding_matrix = zeros((vocab_size, EMBEDDING_DIM))\n",
        "for word, index in tokenizer.word_index.items():\n",
        "    embedding_vector = embeddings_dictionary.get(word)\n",
        "    if embedding_vector is not None:\n",
        "        embedding_matrix[index] = embedding_vector\n",
        "print ('Shape of Embedding Matrix: ',embedding_matrix.shape)\n"
      ]
    },
    {
      "cell_type": "markdown",
      "source": [
        "**Prepare embedding_layer**\n",
        "\n",
        "---\n",
        "\n"
      ],
      "metadata": {
        "id": "PDUQy7Ipb01J"
      }
    },
    {
      "cell_type": "code",
      "execution_count": 31,
      "metadata": {
        "id": "HQP_p3aaQHCi"
      },
      "outputs": [],
      "source": [
        "embedding_layer = Embedding(vocab_size, #vocab size\n",
        "EMBEDDING_DIM, #embedding vector size\n",
        "weights=[embedding_matrix], #weights matrix\n",
        "input_length=maxLen, #padded sequence length\n",
        "trainable=False)\n",
        "sequence_input = Input(shape=(1000,), dtype='int32')\n",
        "embedded_sequences = embedding_layer(sequence_input)"
      ]
    },
    {
      "cell_type": "markdown",
      "source": [
        "**CNN MODEL**\n",
        "\n",
        "---\n",
        "\n"
      ],
      "metadata": {
        "id": "v90yls3RHHfb"
      }
    },
    {
      "cell_type": "code",
      "source": [
        "cnn_accuracies=[]"
      ],
      "metadata": {
        "id": "gO_S36aIHOC7"
      },
      "execution_count": 35,
      "outputs": []
    },
    {
      "cell_type": "markdown",
      "source": [
        "**CNN Model 1 (trial 1)**\n",
        "\n",
        "---\n",
        "\n"
      ],
      "metadata": {
        "id": "S1ps8Ym-cATF"
      }
    },
    {
      "cell_type": "code",
      "execution_count": null,
      "metadata": {
        "id": "fMY0a2BStRIM"
      },
      "outputs": [],
      "source": [
        "##### CNN Model 1 (trial 1)  #######\n",
        "x = Conv1D(128, 5, activation='relu')(embedded_sequences)\n",
        "x = MaxPooling1D(2)(x)\n",
        "\n",
        "x = Conv1D(128, 5, activation='relu')(x)\n",
        "x = MaxPooling1D(2)(x)\n",
        "\n",
        "x = Conv1D(256, 5, activation='relu')(x)\n",
        "x = MaxPooling1D(2)(x)\n",
        "\n",
        "x = Flatten()(x)\n",
        "\n",
        "x = Dense(128, activation='relu')(x)\n",
        "preds = Dense(3, activation='softmax')(x)\n",
        "\n",
        "cnn_model1 = Model(sequence_input, preds)\n",
        "cnn_model1.compile(loss='categorical_crossentropy',optimizer='rmsprop',metrics=['acc'])\n",
        "print(cnn_model1.summary())"
      ]
    },
    {
      "cell_type": "code",
      "source": [
        "cnn_model1.fit(x_train, y_train, validation_data=(x_test, y_test),epochs=7, batch_size=128)"
      ],
      "metadata": {
        "id": "SDxq0Gm2Cszk",
        "outputId": "67c34a0b-b7d6-4dce-fa1c-05ae3c44b87f",
        "colab": {
          "base_uri": "https://localhost:8080/"
        }
      },
      "execution_count": 33,
      "outputs": [
        {
          "output_type": "stream",
          "name": "stdout",
          "text": [
            "Epoch 1/7\n",
            "1371/1371 [==============================] - 115s 73ms/step - loss: 0.7752 - acc: 0.6706 - val_loss: 0.6702 - val_acc: 0.7316\n",
            "Epoch 2/7\n",
            "1371/1371 [==============================] - 101s 74ms/step - loss: 0.6399 - acc: 0.7478 - val_loss: 0.6281 - val_acc: 0.7521\n",
            "Epoch 3/7\n",
            "1371/1371 [==============================] - 102s 75ms/step - loss: 0.5818 - acc: 0.7760 - val_loss: 0.6152 - val_acc: 0.7612\n",
            "Epoch 4/7\n",
            "1371/1371 [==============================] - 101s 73ms/step - loss: 0.5379 - acc: 0.7952 - val_loss: 0.6443 - val_acc: 0.7526\n",
            "Epoch 5/7\n",
            "1371/1371 [==============================] - 101s 74ms/step - loss: 0.4979 - acc: 0.8123 - val_loss: 0.6594 - val_acc: 0.7592\n",
            "Epoch 6/7\n",
            "1371/1371 [==============================] - 100s 73ms/step - loss: 0.4602 - acc: 0.8285 - val_loss: 0.6767 - val_acc: 0.7547\n",
            "Epoch 7/7\n",
            "1371/1371 [==============================] - 99s 73ms/step - loss: 0.4275 - acc: 0.8416 - val_loss: 0.7066 - val_acc: 0.7540\n"
          ]
        },
        {
          "output_type": "execute_result",
          "data": {
            "text/plain": [
              "<keras.callbacks.History at 0x7fca000f1480>"
            ]
          },
          "metadata": {},
          "execution_count": 33
        }
      ]
    },
    {
      "cell_type": "code",
      "source": [
        "score = cnn_model1.evaluate(x_test, y_test, verbose=1)\n",
        "print(\"Test Score:\", score[0])\n",
        "print(\"Test Accuracy:\", score[1])\n",
        "cnn_accuracies.append(score[1])"
      ],
      "metadata": {
        "id": "u4Iu7eMrHT8R",
        "outputId": "2b18e1fb-102d-4521-ce58-b6e0b2f09fce",
        "colab": {
          "base_uri": "https://localhost:8080/"
        }
      },
      "execution_count": 36,
      "outputs": [
        {
          "output_type": "stream",
          "name": "stdout",
          "text": [
            "1371/1371 [==============================] - 12s 9ms/step - loss: 0.7066 - acc: 0.7540\n",
            "Test Score: 0.7065912485122681\n",
            "Test Accuracy: 0.753995954990387\n"
          ]
        }
      ]
    },
    {
      "cell_type": "markdown",
      "source": [
        "**CNN Model 2 (trial 2)**\n",
        "\n",
        "---\n",
        "\n"
      ],
      "metadata": {
        "id": "z2tpE8mlcJU5"
      }
    },
    {
      "cell_type": "code",
      "source": [
        "##### CNN Model 2 (trial 2)  #######\n",
        "x = Conv1D(128, 5, activation='relu', padding='same')(embedded_sequences)\n",
        "x = MaxPooling1D(2)(x)\n",
        "\n",
        "x = Conv1D(256, 5, activation='relu', padding='same')(x)\n",
        "x = MaxPooling1D(2)(x)\n",
        "\n",
        "x = Conv1D(512, 5, activation='relu', padding='same')(x)\n",
        "x = MaxPooling1D(2)(x)\n",
        "\n",
        "x = Flatten()(x)\n",
        "\n",
        "x = Dense(256, activation='relu')(x)\n",
        "x = Dropout(0.5)(x)\n",
        "preds = Dense(3, activation='softmax')(x)\n",
        "\n",
        "cnn_model2 = Model(sequence_input, preds)\n",
        "cnn_model2.compile(loss='categorical_crossentropy', optimizer='adam', metrics=['acc'])\n",
        "print(cnn_model2.summary())"
      ],
      "metadata": {
        "id": "P2OOIlXVCLjd"
      },
      "execution_count": null,
      "outputs": []
    },
    {
      "cell_type": "code",
      "execution_count": 38,
      "metadata": {
        "id": "o5u-Dv66Sw0S",
        "colab": {
          "base_uri": "https://localhost:8080/"
        },
        "outputId": "c29d1a47-382d-4763-e950-3c6245785588"
      },
      "outputs": [
        {
          "output_type": "stream",
          "name": "stdout",
          "text": [
            "Epoch 1/7\n",
            "1371/1371 [==============================] - 138s 98ms/step - loss: 0.5687 - acc: 0.7625 - val_loss: 0.4715 - val_acc: 0.8027\n",
            "Epoch 2/7\n",
            "1371/1371 [==============================] - 141s 103ms/step - loss: 0.3903 - acc: 0.8480 - val_loss: 0.3911 - val_acc: 0.8451\n",
            "Epoch 3/7\n",
            "1371/1371 [==============================] - 140s 102ms/step - loss: 0.3188 - acc: 0.8778 - val_loss: 0.3635 - val_acc: 0.8568\n",
            "Epoch 4/7\n",
            "1371/1371 [==============================] - 141s 103ms/step - loss: 0.2697 - acc: 0.8970 - val_loss: 0.3740 - val_acc: 0.8583\n",
            "Epoch 5/7\n",
            "1371/1371 [==============================] - 141s 103ms/step - loss: 0.2305 - acc: 0.9119 - val_loss: 0.4048 - val_acc: 0.8555\n",
            "Epoch 6/7\n",
            "1371/1371 [==============================] - 131s 96ms/step - loss: 0.1940 - acc: 0.9265 - val_loss: 0.3988 - val_acc: 0.8639\n",
            "Epoch 7/7\n",
            "1371/1371 [==============================] - 141s 103ms/step - loss: 0.1667 - acc: 0.9370 - val_loss: 0.4386 - val_acc: 0.8577\n"
          ]
        },
        {
          "output_type": "execute_result",
          "data": {
            "text/plain": [
              "<keras.callbacks.History at 0x7fc9793a4c40>"
            ]
          },
          "metadata": {},
          "execution_count": 38
        }
      ],
      "source": [
        "cnn_model2.fit(x_train, y_train, validation_data=(x_test, y_test),epochs=7, batch_size=128)"
      ]
    },
    {
      "cell_type": "code",
      "source": [
        "score = cnn_model2.evaluate(x_test, y_test, verbose=1)\n",
        "print(\"Test Score:\", score[0])\n",
        "print(\"Test Accuracy:\", score[1])\n",
        "cnn_accuracies.append(score[1])\n"
      ],
      "metadata": {
        "id": "HOIQMj-SH4wD",
        "outputId": "a89cc296-26cf-476e-cb19-6b53d0782624",
        "colab": {
          "base_uri": "https://localhost:8080/"
        }
      },
      "execution_count": 40,
      "outputs": [
        {
          "output_type": "stream",
          "name": "stdout",
          "text": [
            "1371/1371 [==============================] - 16s 11ms/step - loss: 0.4386 - acc: 0.8577\n",
            "Test Score: 0.4386298656463623\n",
            "Test Accuracy: 0.8576738238334656\n"
          ]
        }
      ]
    },
    {
      "cell_type": "markdown",
      "source": [
        "**CNN Model 3 (trial 3)**\n",
        "\n",
        "---\n",
        "\n"
      ],
      "metadata": {
        "id": "9LTT8NjOcRlb"
      }
    },
    {
      "cell_type": "code",
      "execution_count": null,
      "metadata": {
        "id": "kqKIQkGau0G9"
      },
      "outputs": [],
      "source": [
        "##### CNN Model 3 (trial 3)  #######\n",
        "\n",
        "x = Conv1D(128, 5, activation='relu', padding='same')(embedded_sequences)\n",
        "x = MaxPooling1D(2)(x)\n",
        "\n",
        "x = Conv1D(256, 5, activation='relu', padding='same')(x)\n",
        "x = MaxPooling1D(2)(x)\n",
        "\n",
        "x = Conv1D(512, 5, activation='relu', padding='same')(x)\n",
        "x = MaxPooling1D(2)(x)\n",
        "\n",
        "x = Conv1D(1024, 5, activation='relu', padding='same')(x)\n",
        "x = MaxPooling1D(2)(x)\n",
        "\n",
        "x = Flatten()(x)\n",
        "\n",
        "x = Dense(256, activation='relu')(x)\n",
        "x = Dropout(0.5)(x)\n",
        "preds = Dense(3, activation='softmax')(x)\n",
        "\n",
        "cnn_model3 = Model(sequence_input, preds)\n",
        "cnn_model3.compile(loss='categorical_crossentropy', optimizer='adam', metrics=['acc'])\n",
        "print(cnn_model3.summary())\n"
      ]
    },
    {
      "cell_type": "code",
      "source": [
        "cnn_model3.fit(x_train, y_train, validation_data=(x_test, y_test),epochs=6, batch_size=128)"
      ],
      "metadata": {
        "id": "zKJepx7GGq9f",
        "outputId": "f3a05c5a-6c1f-4d21-fb88-4df876f25f46",
        "colab": {
          "base_uri": "https://localhost:8080/"
        }
      },
      "execution_count": 43,
      "outputs": [
        {
          "output_type": "stream",
          "name": "stdout",
          "text": [
            "Epoch 1/6\n",
            "1371/1371 [==============================] - 216s 155ms/step - loss: 0.5748 - acc: 0.7604 - val_loss: 0.4371 - val_acc: 0.8265\n",
            "Epoch 2/6\n",
            "1371/1371 [==============================] - 210s 153ms/step - loss: 0.3899 - acc: 0.8496 - val_loss: 0.3819 - val_acc: 0.8490\n",
            "Epoch 3/6\n",
            "1371/1371 [==============================] - 209s 153ms/step - loss: 0.3203 - acc: 0.8779 - val_loss: 0.3669 - val_acc: 0.8601\n",
            "Epoch 4/6\n",
            "1371/1371 [==============================] - 209s 153ms/step - loss: 0.2715 - acc: 0.8965 - val_loss: 0.3556 - val_acc: 0.8643\n",
            "Epoch 5/6\n",
            "1371/1371 [==============================] - 209s 152ms/step - loss: 0.2332 - acc: 0.9123 - val_loss: 0.3628 - val_acc: 0.8650\n",
            "Epoch 6/6\n",
            "1371/1371 [==============================] - 209s 152ms/step - loss: 0.1997 - acc: 0.9248 - val_loss: 0.3966 - val_acc: 0.8600\n"
          ]
        },
        {
          "output_type": "execute_result",
          "data": {
            "text/plain": [
              "<keras.callbacks.History at 0x7fc97902e830>"
            ]
          },
          "metadata": {},
          "execution_count": 43
        }
      ]
    },
    {
      "cell_type": "code",
      "source": [
        "score = cnn_model3.evaluate(x_test, y_test, verbose=1)\n",
        "print(\"Test Score:\", score[0])\n",
        "print(\"Test Accuracy:\", score[1])\n",
        "cnn_accuracies.append(score[1])"
      ],
      "metadata": {
        "id": "a93_b0nWH9vr",
        "outputId": "089434d0-173d-4ace-ee69-0045891e96fe",
        "colab": {
          "base_uri": "https://localhost:8080/"
        }
      },
      "execution_count": 44,
      "outputs": [
        {
          "output_type": "stream",
          "name": "stdout",
          "text": [
            "1371/1371 [==============================] - 22s 16ms/step - loss: 0.3966 - acc: 0.8600\n",
            "Test Score: 0.39664942026138306\n",
            "Test Accuracy: 0.8599767684936523\n"
          ]
        }
      ]
    },
    {
      "cell_type": "markdown",
      "source": [
        "**CNN Model 4 (trial 4)**\n",
        "\n",
        "---\n",
        "\n"
      ],
      "metadata": {
        "id": "P0o70Vz0cZvr"
      }
    },
    {
      "cell_type": "code",
      "source": [
        "\n",
        "##### CNN Model 4 (trial 4)  #######\n",
        "x = Conv1D(256, 5, activation='relu', padding='same')(embedded_sequences)\n",
        "x = MaxPooling1D(2)(x)\n",
        "\n",
        "x = Conv1D(512, 5, activation='relu', padding='same')(x)\n",
        "x = MaxPooling1D(2)(x)\n",
        "\n",
        "x = Conv1D(1024, 5, activation='relu', padding='same')(x)\n",
        "x = MaxPooling1D(2)(x)\n",
        "\n",
        "x = Flatten()(x)\n",
        "\n",
        "x = Dense(512, activation='relu')(x)\n",
        "x = Dropout(0.5)(x)\n",
        "\n",
        "x = Dense(256, activation='relu')(x)\n",
        "x = Dropout(0.5)(x)\n",
        "\n",
        "preds = Dense(3, activation='softmax')(x)\n",
        "\n",
        "cnn_model4 = Model(sequence_input, preds)\n",
        "cnn_model4.compile(loss='categorical_crossentropy', optimizer='adam', metrics=['acc'])\n",
        "print(cnn_model4.summary())\n"
      ],
      "metadata": {
        "id": "uS8fwc1LGuwl",
        "outputId": "53220fe8-1894-4823-dfb3-462e156b6808",
        "colab": {
          "base_uri": "https://localhost:8080/"
        }
      },
      "execution_count": 45,
      "outputs": [
        {
          "output_type": "stream",
          "name": "stdout",
          "text": [
            "Model: \"model_3\"\n",
            "_________________________________________________________________\n",
            " Layer (type)                Output Shape              Param #   \n",
            "=================================================================\n",
            " input_1 (InputLayer)        [(None, 1000)]            0         \n",
            "                                                                 \n",
            " embedding (Embedding)       (None, 1000, 300)         26203200  \n",
            "                                                                 \n",
            " conv1d_10 (Conv1D)          (None, 1000, 256)         384256    \n",
            "                                                                 \n",
            " max_pooling1d_10 (MaxPoolin  (None, 500, 256)         0         \n",
            " g1D)                                                            \n",
            "                                                                 \n",
            " conv1d_11 (Conv1D)          (None, 500, 512)          655872    \n",
            "                                                                 \n",
            " max_pooling1d_11 (MaxPoolin  (None, 250, 512)         0         \n",
            " g1D)                                                            \n",
            "                                                                 \n",
            " conv1d_12 (Conv1D)          (None, 250, 1024)         2622464   \n",
            "                                                                 \n",
            " max_pooling1d_12 (MaxPoolin  (None, 125, 1024)        0         \n",
            " g1D)                                                            \n",
            "                                                                 \n",
            " flatten_3 (Flatten)         (None, 128000)            0         \n",
            "                                                                 \n",
            " dense_6 (Dense)             (None, 512)               65536512  \n",
            "                                                                 \n",
            " dropout_2 (Dropout)         (None, 512)               0         \n",
            "                                                                 \n",
            " dense_7 (Dense)             (None, 256)               131328    \n",
            "                                                                 \n",
            " dropout_3 (Dropout)         (None, 256)               0         \n",
            "                                                                 \n",
            " dense_8 (Dense)             (None, 3)                 771       \n",
            "                                                                 \n",
            "=================================================================\n",
            "Total params: 95,534,403\n",
            "Trainable params: 69,331,203\n",
            "Non-trainable params: 26,203,200\n",
            "_________________________________________________________________\n",
            "None\n"
          ]
        }
      ]
    },
    {
      "cell_type": "code",
      "source": [
        "cnn_model4.fit(x_train, y_train, validation_data=(x_test, y_test),epochs=5, batch_size=128)"
      ],
      "metadata": {
        "id": "hBsr8c7nGzln",
        "outputId": "efebaf12-69d3-49d2-d237-5321bc4d3674",
        "colab": {
          "base_uri": "https://localhost:8080/"
        }
      },
      "execution_count": 46,
      "outputs": [
        {
          "output_type": "stream",
          "name": "stdout",
          "text": [
            "Epoch 1/5\n",
            "1371/1371 [==============================] - 330s 236ms/step - loss: 0.5653 - acc: 0.7648 - val_loss: 0.4231 - val_acc: 0.8315\n",
            "Epoch 2/5\n",
            "1371/1371 [==============================] - 320s 233ms/step - loss: 0.3770 - acc: 0.8542 - val_loss: 0.3624 - val_acc: 0.8583\n",
            "Epoch 3/5\n",
            "1371/1371 [==============================] - 320s 233ms/step - loss: 0.3070 - acc: 0.8840 - val_loss: 0.3589 - val_acc: 0.8604\n",
            "Epoch 4/5\n",
            "1371/1371 [==============================] - 320s 233ms/step - loss: 0.2568 - acc: 0.9035 - val_loss: 0.3618 - val_acc: 0.8668\n",
            "Epoch 5/5\n",
            "1371/1371 [==============================] - 320s 233ms/step - loss: 0.2166 - acc: 0.9200 - val_loss: 0.3614 - val_acc: 0.8648\n"
          ]
        },
        {
          "output_type": "execute_result",
          "data": {
            "text/plain": [
              "<keras.callbacks.History at 0x7fc9786dd060>"
            ]
          },
          "metadata": {},
          "execution_count": 46
        }
      ]
    },
    {
      "cell_type": "code",
      "source": [
        "score = cnn_model4.evaluate(x_test, y_test, verbose=1)\n",
        "print(\"Test Score:\", score[0])\n",
        "print(\"Test Accuracy:\", score[1])\n",
        "cnn_accuracies.append(score[1])"
      ],
      "metadata": {
        "id": "OHURp2HzIELq",
        "outputId": "d32dfe65-005b-49c1-fb19-ceea7e8985bf",
        "colab": {
          "base_uri": "https://localhost:8080/"
        }
      },
      "execution_count": 47,
      "outputs": [
        {
          "output_type": "stream",
          "name": "stdout",
          "text": [
            "1371/1371 [==============================] - 34s 25ms/step - loss: 0.3614 - acc: 0.8648\n",
            "Test Score: 0.36144742369651794\n",
            "Test Accuracy: 0.8647878170013428\n"
          ]
        }
      ]
    },
    {
      "cell_type": "markdown",
      "source": [
        "**Plot Tirals & Accuracy Graph**"
      ],
      "metadata": {
        "id": "8l_mrtqegMmk"
      }
    },
    {
      "cell_type": "code",
      "source": [
        "import matplotlib.pyplot as plt\n",
        "\n",
        "# Create a bar chart to represent the accuracy\n",
        "plt.plot(['model1','model2','model3','model4'], [cnn_accuracies[0],cnn_accuracies[1],cnn_accuracies[2],cnn_accuracies[3]],marker=\"o\")\n",
        "plt.xlabel('CNN Model')  # Set the label for the x-axis\n",
        "plt.ylabel('Accuracy')  # Set the label for the y-axis\n",
        "plt.title('Model Accuracy')  # Set the title for the chart\n",
        "\n",
        "# Display the chart\n",
        "plt.show()"
      ],
      "metadata": {
        "id": "YNZ-TXVQIi8w",
        "outputId": "6c2e0be6-67cd-4a76-be61-6e3e301f7d57",
        "colab": {
          "base_uri": "https://localhost:8080/",
          "height": 472
        }
      },
      "execution_count": 48,
      "outputs": [
        {
          "output_type": "display_data",
          "data": {
            "text/plain": [
              "<Figure size 640x480 with 1 Axes>"
            ],
            "image/png": "[encoded data removed]"
          },
          "metadata": {}
        }
      ]
    },
    {
      "cell_type": "markdown",
      "source": [
        "**Test CNN model with user tweets good, bad and natural**\n",
        "\n",
        "---\n",
        "\n"
      ],
      "metadata": {
        "id": "KH8TPxVAgeFC"
      }
    },
    {
      "cell_type": "code",
      "source": [
        "text=input(\"Your tweet: \")\n",
        "test_preprocessed_text=text_preprocess(text)\n",
        "test_row_text=[test_preprocessed_text]\n",
        "test_text_sequence=tokenizer.texts_to_sequences(test_row_text)\n",
        "test_padding_text=pad_sequences(test_text_sequence,maxlen=maxLen)\n",
        "label_vector=cnn_model4.predict(test_padding_text[0].reshape(1,-1))\n",
        "label_id=np.argmax(label_vector)\n",
        "label_name=mapping.get(label_id)\n",
        "print(\"Label:\", label_name)"
      ],
      "metadata": {
        "colab": {
          "base_uri": "https://localhost:8080/"
        },
        "id": "PLaZnyqhcYhv",
        "outputId": "b71f5332-8546-45ac-8b04-e857236192ab"
      },
      "execution_count": 64,
      "outputs": [
        {
          "output_type": "stream",
          "name": "stdout",
          "text": [
            "Your tweet: \"Just had a conversation with ChatGPT, and it left me scratching my head. 🤔 Its responses were confusing, contradictory, and far from helpful. #ChatGPT #AI #Confused\"\n",
            "1/1 [==============================] - 0s 20ms/step\n",
            "Label: bad\n"
          ]
        }
      ]
    },
    {
      "cell_type": "markdown",
      "source": [
        "**LSTM Model**\n",
        "\n",
        "---\n",
        "\n"
      ],
      "metadata": {
        "id": "8TTRtaFuJqBX"
      }
    },
    {
      "cell_type": "code",
      "source": [
        "accuracies=[]"
      ],
      "metadata": {
        "id": "1uE7t9rX3Z9P"
      },
      "execution_count": 57,
      "outputs": []
    },
    {
      "cell_type": "markdown",
      "source": [
        "**LSTM Model Model 1 (trial 1) **\n",
        "\n",
        "---\n",
        "\n"
      ],
      "metadata": {
        "id": "nO7PDa74hBde"
      }
    },
    {
      "cell_type": "code",
      "source": [
        "lstm_model1= Sequential()\n",
        "lstm_model1.add(embedding_layer)\n",
        "# While passing output to next LSTM layer set return_sequence to Ture.\n",
        "lstm_model1.add(LSTM(64, return_sequences=True)) \n",
        "lstm_model1.add(LSTM(64, return_sequences=True)) \n",
        "lstm_model1.add(Dropout(0.2))\n",
        "lstm_model1.add(Flatten())\n",
        "lstm_model1.add(Dense(128, activation='relu'))\n",
        "lstm_model1.add(Dropout(0.5))\n",
        "lstm_model1.add(Dense(3, activation='sigmoid'))\n",
        "lstm_model1.compile(loss='categorical_crossentropy', optimizer='rmsprop', metrics=['accuracy'])\n",
        "lstm_model1.summary()"
      ],
      "metadata": {
        "colab": {
          "base_uri": "https://localhost:8080/"
        },
        "id": "_eTd8UzK_DxV",
        "outputId": "5bb55497-1243-4bb5-defd-ad3cabf7259c"
      },
      "execution_count": null,
      "outputs": [
        {
          "output_type": "stream",
          "name": "stdout",
          "text": [
            "Model: \"sequential_3\"\n",
            "_________________________________________________________________\n",
            " Layer (type)                Output Shape              Param #   \n",
            "=================================================================\n",
            " embedding (Embedding)       (None, 1000, 300)         26203200  \n",
            "                                                                 \n",
            " lstm_6 (LSTM)               (None, 1000, 64)          93440     \n",
            "                                                                 \n",
            " lstm_7 (LSTM)               (None, 1000, 64)          33024     \n",
            "                                                                 \n",
            " dropout_3 (Dropout)         (None, 1000, 64)          0         \n",
            "                                                                 \n",
            " flatten_2 (Flatten)         (None, 64000)             0         \n",
            "                                                                 \n",
            " dense_8 (Dense)             (None, 128)               8192128   \n",
            "                                                                 \n",
            " dropout_4 (Dropout)         (None, 128)               0         \n",
            "                                                                 \n",
            " dense_9 (Dense)             (None, 3)                 387       \n",
            "                                                                 \n",
            "=================================================================\n",
            "Total params: 34,522,179\n",
            "Trainable params: 8,318,979\n",
            "Non-trainable params: 26,203,200\n",
            "_________________________________________________________________\n"
          ]
        }
      ]
    },
    {
      "cell_type": "code",
      "source": [
        "lstm_model1.fit(x_train, y_train, validation_data=(x_test, y_test),epochs=6, batch_size=128)"
      ],
      "metadata": {
        "colab": {
          "base_uri": "https://localhost:8080/"
        },
        "id": "xW5vGM90AQZK",
        "outputId": "367042c1-5da4-48c6-9190-1191355642b3"
      },
      "execution_count": null,
      "outputs": [
        {
          "output_type": "stream",
          "name": "stdout",
          "text": [
            "Epoch 1/6\n",
            "1371/1371 [==============================] - 129s 92ms/step - loss: 0.6862 - accuracy: 0.7049 - val_loss: 0.4936 - val_accuracy: 0.8042\n",
            "Epoch 2/6\n",
            "1371/1371 [==============================] - 139s 101ms/step - loss: 0.4607 - accuracy: 0.8222 - val_loss: 0.3813 - val_accuracy: 0.8512\n",
            "Epoch 3/6\n",
            "1371/1371 [==============================] - 136s 99ms/step - loss: 0.3614 - accuracy: 0.8656 - val_loss: 0.3300 - val_accuracy: 0.8741\n",
            "Epoch 4/6\n",
            "1371/1371 [==============================] - 137s 100ms/step - loss: 0.3100 - accuracy: 0.8864 - val_loss: 0.2948 - val_accuracy: 0.8952\n",
            "Epoch 5/6\n",
            "1371/1371 [==============================] - 137s 100ms/step - loss: 0.2779 - accuracy: 0.8990 - val_loss: 0.2807 - val_accuracy: 0.9019\n",
            "Epoch 6/6\n",
            "1371/1371 [==============================] - 137s 100ms/step - loss: 0.2555 - accuracy: 0.9080 - val_loss: 0.2697 - val_accuracy: 0.9009\n"
          ]
        },
        {
          "output_type": "execute_result",
          "data": {
            "text/plain": [
              "<keras.callbacks.History at 0x7f5d5dbff280>"
            ]
          },
          "metadata": {},
          "execution_count": 52
        }
      ]
    },
    {
      "cell_type": "code",
      "source": [
        "score = lstm_model1.evaluate(x_test, y_test, verbose=1)\n",
        "print(\"Test Score:\", score[0])\n",
        "print(\"Test Accuracy:\", score[1])\n",
        "accuracies.append(score)"
      ],
      "metadata": {
        "colab": {
          "base_uri": "https://localhost:8080/"
        },
        "id": "9iUEXgazEFXZ",
        "outputId": "84cffb22-2592-47f8-c877-9611fd211c2b"
      },
      "execution_count": null,
      "outputs": [
        {
          "output_type": "stream",
          "name": "stdout",
          "text": [
            "1371/1371 [==============================] - 35s 25ms/step - loss: 0.2697 - accuracy: 0.9009\n",
            "Test Score: 0.26972708106040955\n",
            "Test Accuracy: 0.9008824229240417\n"
          ]
        }
      ]
    },
    {
      "cell_type": "markdown",
      "source": [
        "**LSTM Model 2 (Best Model) **\n",
        "\n",
        "---\n",
        "\n"
      ],
      "metadata": {
        "id": "8cdD6J30hVhH"
      }
    },
    {
      "cell_type": "code",
      "source": [
        "lstm_model2 = Sequential()\n",
        "lstm_model2.add(embedding_layer)\n",
        "# While passing output to next LSTM layer set return_sequence to Ture.\n",
        "lstm_model2.add(LSTM(128, return_sequences=True)) \n",
        "lstm_model2.add(LSTM(128))\n",
        "lstm_model2.add(Dense(32, activation='relu'))\n",
        "lstm_model2.add(Dense(3, activation='softmax'))\n",
        "lstm_model2.compile(loss='categorical_crossentropy', optimizer='adam', metrics=['accuracy'])\n",
        "lstm_model2.summary()\n"
      ],
      "metadata": {
        "colab": {
          "base_uri": "https://localhost:8080/"
        },
        "id": "axhgHLeczpzR",
        "outputId": "2244a2a6-ca3c-450f-b2fb-a6978ab9ba1b"
      },
      "execution_count": 54,
      "outputs": [
        {
          "output_type": "stream",
          "name": "stdout",
          "text": [
            "Model: \"sequential\"\n",
            "_________________________________________________________________\n",
            " Layer (type)                Output Shape              Param #   \n",
            "=================================================================\n",
            " embedding (Embedding)       (None, 1000, 300)         26203200  \n",
            "                                                                 \n",
            " lstm (LSTM)                 (None, 1000, 128)         219648    \n",
            "                                                                 \n",
            " lstm_1 (LSTM)               (None, 128)               131584    \n",
            "                                                                 \n",
            " dense_9 (Dense)             (None, 32)                4128      \n",
            "                                                                 \n",
            " dense_10 (Dense)            (None, 3)                 99        \n",
            "                                                                 \n",
            "=================================================================\n",
            "Total params: 26,558,659\n",
            "Trainable params: 355,459\n",
            "Non-trainable params: 26,203,200\n",
            "_________________________________________________________________\n"
          ]
        }
      ]
    },
    {
      "cell_type": "code",
      "source": [
        "lstm_model2.fit(x_train, y_train, validation_data=(x_test, y_test),epochs=6, batch_size=128)"
      ],
      "metadata": {
        "colab": {
          "base_uri": "https://localhost:8080/"
        },
        "id": "MQkOoE7tz34j",
        "outputId": "92832196-e590-4b05-b2b5-bf279e4fa994"
      },
      "execution_count": 55,
      "outputs": [
        {
          "output_type": "stream",
          "name": "stdout",
          "text": [
            "Epoch 1/6\n",
            "1371/1371 [==============================] - 217s 154ms/step - loss: 0.5730 - accuracy: 0.7577 - val_loss: 0.4069 - val_accuracy: 0.8413\n",
            "Epoch 2/6\n",
            "1371/1371 [==============================] - 214s 156ms/step - loss: 0.3457 - accuracy: 0.8688 - val_loss: 0.3080 - val_accuracy: 0.8865\n",
            "Epoch 3/6\n",
            "1371/1371 [==============================] - 213s 155ms/step - loss: 0.2715 - accuracy: 0.8989 - val_loss: 0.2681 - val_accuracy: 0.9005\n",
            "Epoch 4/6\n",
            "1371/1371 [==============================] - 210s 153ms/step - loss: 0.2289 - accuracy: 0.9158 - val_loss: 0.2529 - val_accuracy: 0.9077\n",
            "Epoch 5/6\n",
            "1371/1371 [==============================] - 211s 154ms/step - loss: 0.1966 - accuracy: 0.9289 - val_loss: 0.2448 - val_accuracy: 0.9130\n",
            "Epoch 6/6\n",
            "1371/1371 [==============================] - 211s 154ms/step - loss: 0.1701 - accuracy: 0.9384 - val_loss: 0.2371 - val_accuracy: 0.9155\n"
          ]
        },
        {
          "output_type": "execute_result",
          "data": {
            "text/plain": [
              "<keras.callbacks.History at 0x7fc966c10f40>"
            ]
          },
          "metadata": {},
          "execution_count": 55
        }
      ]
    },
    {
      "cell_type": "code",
      "source": [
        "score = lstm_model2.evaluate(x_test, y_test, verbose=1)\n",
        "print(\"Test Score:\", score[0])\n",
        "print(\"Test Accuracy:\", score[1])\n",
        "accuracies.append(score)"
      ],
      "metadata": {
        "colab": {
          "base_uri": "https://localhost:8080/"
        },
        "id": "CMD-Udc69Ysi",
        "outputId": "95758361-3c82-4f7e-f3e9-86da45ecb7bf"
      },
      "execution_count": 58,
      "outputs": [
        {
          "output_type": "stream",
          "name": "stdout",
          "text": [
            "1371/1371 [==============================] - 38s 28ms/step - loss: 0.2371 - accuracy: 0.9155\n",
            "Test Score: 0.23714469373226166\n",
            "Test Accuracy: 0.9155436754226685\n"
          ]
        }
      ]
    },
    {
      "cell_type": "markdown",
      "source": [
        "**LSTM Model Model 3 (trial 3) **\n",
        "\n",
        "---\n",
        "\n"
      ],
      "metadata": {
        "id": "0mTM6GU-hiE-"
      }
    },
    {
      "cell_type": "code",
      "source": [
        "lstm_model3 = Sequential()\n",
        "lstm_model3.add(embedding_layer)\n",
        "# While passing output to next LSTM layer set return_sequence to Ture.\n",
        "lstm_model3.add(LSTM(128, return_sequences=True)) \n",
        "lstm_model3.add(LSTM(128))\n",
        "lstm_model3.add(Dense(32, activation='relu'))\n",
        "lstm_model1.add(Dropout(0.2))\n",
        "lstm_model1.add(Flatten())\n",
        "lstm_model3.add(Dense(3, activation='softmax'))\n",
        "lstm_model3.compile(loss='categorical_crossentropy', optimizer='adam', metrics=['accuracy'])\n",
        "lstm_model3.summary()\n"
      ],
      "metadata": {
        "colab": {
          "base_uri": "https://localhost:8080/"
        },
        "outputId": "d678eb8a-0821-443c-fb5d-9b1ffd0c5e92",
        "id": "G_nqCpk1i5Dz"
      },
      "execution_count": null,
      "outputs": [
        {
          "output_type": "stream",
          "name": "stdout",
          "text": [
            "Model: \"sequential_6\"\n",
            "_________________________________________________________________\n",
            " Layer (type)                Output Shape              Param #   \n",
            "=================================================================\n",
            " embedding (Embedding)       (None, 1000, 300)         26203200  \n",
            "                                                                 \n",
            " lstm_13 (LSTM)              (None, 1000, 128)         219648    \n",
            "                                                                 \n",
            " lstm_14 (LSTM)              (None, 128)               131584    \n",
            "                                                                 \n",
            " dense_13 (Dense)            (None, 32)                4128      \n",
            "                                                                 \n",
            " dense_14 (Dense)            (None, 3)                 99        \n",
            "                                                                 \n",
            "=================================================================\n",
            "Total params: 26,558,659\n",
            "Trainable params: 355,459\n",
            "Non-trainable params: 26,203,200\n",
            "_________________________________________________________________\n"
          ]
        }
      ]
    },
    {
      "cell_type": "code",
      "source": [
        "lstm_model3.fit(x_train, y_train, validation_data=(x_test, y_test),epochs=6, batch_size=128)"
      ],
      "metadata": {
        "colab": {
          "base_uri": "https://localhost:8080/"
        },
        "id": "Xm5UtGvxjaqy",
        "outputId": "f3216487-e868-4677-d5ae-0a8c53d6fce9"
      },
      "execution_count": null,
      "outputs": [
        {
          "output_type": "stream",
          "name": "stdout",
          "text": [
            "Epoch 1/6\n",
            "1371/1371 [==============================] - 202s 144ms/step - loss: 0.5503 - accuracy: 0.7691 - val_loss: 0.3881 - val_accuracy: 0.8525\n",
            "Epoch 2/6\n",
            "1371/1371 [==============================] - 204s 149ms/step - loss: 0.3233 - accuracy: 0.8797 - val_loss: 0.2901 - val_accuracy: 0.8908\n",
            "Epoch 3/6\n",
            "1371/1371 [==============================] - 212s 155ms/step - loss: 0.2528 - accuracy: 0.9073 - val_loss: 0.2547 - val_accuracy: 0.9070\n",
            "Epoch 4/6\n",
            "1371/1371 [==============================] - 213s 155ms/step - loss: 0.2138 - accuracy: 0.9226 - val_loss: 0.2432 - val_accuracy: 0.9121\n",
            "Epoch 5/6\n",
            "1371/1371 [==============================] - 214s 156ms/step - loss: 0.1832 - accuracy: 0.9343 - val_loss: 0.2406 - val_accuracy: 0.9137\n",
            "Epoch 6/6\n",
            "1371/1371 [==============================] - 215s 157ms/step - loss: 0.1604 - accuracy: 0.9433 - val_loss: 0.2473 - val_accuracy: 0.9150\n"
          ]
        },
        {
          "output_type": "execute_result",
          "data": {
            "text/plain": [
              "<keras.callbacks.History at 0x7f5d445be500>"
            ]
          },
          "metadata": {},
          "execution_count": 85
        }
      ]
    },
    {
      "cell_type": "code",
      "source": [
        "score = lstm_model3.evaluate(x_test, y_test, verbose=1)\n",
        "print(\"Test Score:\", score[0])\n",
        "print(\"Test Accuracy:\", score[1])\n",
        "accuracies.append(score)"
      ],
      "metadata": {
        "colab": {
          "base_uri": "https://localhost:8080/"
        },
        "id": "b1rul-b7ohpj",
        "outputId": "89a99dc9-755e-4afe-bf20-88a9207befad"
      },
      "execution_count": null,
      "outputs": [
        {
          "output_type": "stream",
          "name": "stdout",
          "text": [
            "1371/1371 [==============================] - 38s 28ms/step - loss: 0.2473 - accuracy: 0.9150\n",
            "Test Score: 0.24729467928409576\n",
            "Test Accuracy: 0.9149508476257324\n"
          ]
        }
      ]
    },
    {
      "cell_type": "markdown",
      "source": [
        "**LSTM Model 4 (trial 4) **\n",
        "\n",
        "---\n",
        "\n"
      ],
      "metadata": {
        "id": "B_c2AU60hr13"
      }
    },
    {
      "cell_type": "code",
      "source": [
        "lstm_model4 = Sequential()\n",
        "lstm_model4.add(embedding_layer)\n",
        "# While passing output to next LSTM layer set return_sequence to Ture.\n",
        "lstm_model4.add(LSTM(256, return_sequences=True)) \n",
        "lstm_model4.add(LSTM(256))\n",
        "lstm_model4.add(Dense(64, activation='relu'))\n",
        "lstm_model4.add(Dropout(0.3))\n",
        "lstm_model4.add(Flatten())\n",
        "lstm_model4.add(Dense(3, activation='softmax'))\n",
        "lstm_model4.compile(loss='categorical_crossentropy', optimizer='adam', metrics=['accuracy'])\n",
        "lstm_model4.summary()"
      ],
      "metadata": {
        "colab": {
          "base_uri": "https://localhost:8080/"
        },
        "id": "cZGK7bikpAnF",
        "outputId": "8d2c4392-177f-4a9f-cb87-0423d6ae7aca"
      },
      "execution_count": null,
      "outputs": [
        {
          "output_type": "stream",
          "name": "stdout",
          "text": [
            "Model: \"sequential_7\"\n",
            "_________________________________________________________________\n",
            " Layer (type)                Output Shape              Param #   \n",
            "=================================================================\n",
            " embedding (Embedding)       (None, 1000, 300)         26203200  \n",
            "                                                                 \n",
            " lstm_15 (LSTM)              (None, 1000, 256)         570368    \n",
            "                                                                 \n",
            " lstm_16 (LSTM)              (None, 256)               525312    \n",
            "                                                                 \n",
            " dense_15 (Dense)            (None, 64)                16448     \n",
            "                                                                 \n",
            " dropout_6 (Dropout)         (None, 64)                0         \n",
            "                                                                 \n",
            " flatten_4 (Flatten)         (None, 64)                0         \n",
            "                                                                 \n",
            " dense_16 (Dense)            (None, 3)                 195       \n",
            "                                                                 \n",
            "=================================================================\n",
            "Total params: 27,315,523\n",
            "Trainable params: 1,112,323\n",
            "Non-trainable params: 26,203,200\n",
            "_________________________________________________________________\n"
          ]
        }
      ]
    },
    {
      "cell_type": "code",
      "source": [
        "lstm_model4.fit(x_train, y_train, validation_data=(x_test, y_test),epochs=6, batch_size=128)"
      ],
      "metadata": {
        "colab": {
          "base_uri": "https://localhost:8080/"
        },
        "id": "A979jq3EpR9f",
        "outputId": "9c542c35-5494-4f1a-e702-f1920506b5fd"
      },
      "execution_count": null,
      "outputs": [
        {
          "output_type": "stream",
          "name": "stdout",
          "text": [
            "Epoch 1/6\n",
            "1371/1371 [==============================] - 470s 340ms/step - loss: 0.5433 - accuracy: 0.7769 - val_loss: 0.3683 - val_accuracy: 0.8592\n",
            "Epoch 2/6\n",
            "1371/1371 [==============================] - 474s 346ms/step - loss: 0.3133 - accuracy: 0.8856 - val_loss: 0.2838 - val_accuracy: 0.8953\n",
            "Epoch 3/6\n",
            "1371/1371 [==============================] - 479s 350ms/step - loss: 0.2433 - accuracy: 0.9131 - val_loss: 0.2465 - val_accuracy: 0.9110\n",
            "Epoch 4/6\n",
            "1371/1371 [==============================] - 461s 336ms/step - loss: 0.2011 - accuracy: 0.9288 - val_loss: 0.2275 - val_accuracy: 0.9188\n",
            "Epoch 5/6\n",
            "1371/1371 [==============================] - 459s 334ms/step - loss: 0.1681 - accuracy: 0.9401 - val_loss: 0.2343 - val_accuracy: 0.9178\n",
            "Epoch 6/6\n",
            "1371/1371 [==============================] - 456s 332ms/step - loss: 0.1396 - accuracy: 0.9506 - val_loss: 0.2510 - val_accuracy: 0.9157\n"
          ]
        },
        {
          "output_type": "execute_result",
          "data": {
            "text/plain": [
              "<keras.callbacks.History at 0x7f5d5cc441f0>"
            ]
          },
          "metadata": {},
          "execution_count": 88
        }
      ]
    },
    {
      "cell_type": "code",
      "source": [
        "score = lstm_model4.evaluate(x_test, y_test, verbose=1)\n",
        "print(\"Test Score:\", score[0])\n",
        "print(\"Test Accuracy:\", score[1])\n",
        "accuracies.append(score)"
      ],
      "metadata": {
        "colab": {
          "base_uri": "https://localhost:8080/"
        },
        "id": "gXE25wBbp8yr",
        "outputId": "489ffc6e-b328-4264-c14d-6a69efe9187b"
      },
      "execution_count": null,
      "outputs": [
        {
          "output_type": "stream",
          "name": "stdout",
          "text": [
            "1371/1371 [==============================] - 65s 48ms/step - loss: 0.2510 - accuracy: 0.9157\n",
            "Test Score: 0.25095334649086\n",
            "Test Accuracy: 0.9157488942146301\n"
          ]
        }
      ]
    },
    {
      "cell_type": "code",
      "source": [
        "accuracies"
      ],
      "metadata": {
        "colab": {
          "base_uri": "https://localhost:8080/"
        },
        "id": "BX0Qq0ru5H9F",
        "outputId": "b87acb83-759d-42de-e40d-f5ff97841089"
      },
      "execution_count": null,
      "outputs": [
        {
          "output_type": "execute_result",
          "data": {
            "text/plain": [
              "[[0.26972708106040955, 0.9008824229240417],\n",
              " [0.2364325374364853, 0.9162733554840088],\n",
              " [0.24729467928409576, 0.9149508476257324],\n",
              " [0.25095334649086, 0.9157488942146301]]"
            ]
          },
          "metadata": {},
          "execution_count": 95
        }
      ]
    },
    {
      "cell_type": "markdown",
      "source": [
        "**Plot Tirals & Accuracy Graph**\n",
        "\n",
        "---\n",
        "\n"
      ],
      "metadata": {
        "id": "Ji3Gssi2h7X4"
      }
    },
    {
      "cell_type": "code",
      "source": [
        "import matplotlib.pyplot as plt\n",
        "\n",
        "# Create a bar chart to represent the accuracy\n",
        "plt.plot(['model1','model2','model3','model4'], [accuracies[0][1],accuracies[1][1],accuracies[2][1],accuracies[3][1]],marker=\"o\")\n",
        "plt.xlabel('LSTM Model')  # Set the label for the x-axis\n",
        "plt.ylabel('Accuracy')  # Set the label for the y-axis\n",
        "plt.title('Model Accuracy')  # Set the title for the chart\n",
        "\n",
        "# Display the chart\n",
        "plt.show()"
      ],
      "metadata": {
        "colab": {
          "base_uri": "https://localhost:8080/",
          "height": 472
        },
        "id": "L51ekIBo5dmx",
        "outputId": "3086f294-d84d-4614-8e86-6784e13ca8c4"
      },
      "execution_count": 65,
      "outputs": [
        {
          "output_type": "display_data",
          "data": {
            "text/plain": [
              "<Figure size 640x480 with 1 Axes>"
            ],
            "image/png": "[encoded data removed]"
          },
          "metadata": {}
        }
      ]
    },
    {
      "cell_type": "markdown",
      "source": [
        "**Test LSTM model with user tweets good, bad and natural**\n",
        "\n",
        "---\n",
        "\n"
      ],
      "metadata": {
        "id": "O5tYwEV7iF9g"
      }
    },
    {
      "cell_type": "code",
      "source": [
        "text=input(\"Your tweet: \")\n",
        "test_preprocessed_text=text_preprocess(text)\n",
        "test_row_text=[test_preprocessed_text]\n",
        "test_text_sequence=tokenizer.texts_to_sequences(test_row_text)\n",
        "test_padding_text=pad_sequences(test_text_sequence,maxlen=maxLen)\n",
        "label_vector=lstm_model2.predict(test_padding_text[0].reshape(1,-1))\n",
        "label_id=np.argmax(label_vector)\n",
        "label_name=mapping.get(label_id)\n",
        "print(\"Label:\", label_name)"
      ],
      "metadata": {
        "colab": {
          "base_uri": "https://localhost:8080/"
        },
        "id": "yfKbmPzDLCc8",
        "outputId": "a614db2c-6490-4c3f-f507-846d60715f43"
      },
      "execution_count": 63,
      "outputs": [
        {
          "output_type": "stream",
          "name": "stdout",
          "text": [
            "Your tweet: \"Just had a conversation with ChatGPT, and it left me scratching my head. 🤔 Its responses were confusing, contradictory, and far from helpful. #ChatGPT #AI #Confused\"\n",
            "1/1 [==============================] - 0s 38ms/step\n",
            "Label: bad\n"
          ]
        }
      ]
    }
  ],
  "metadata": {
    "accelerator": "GPU",
    "colab": {
      "provenance": []
    },
    "gpuClass": "standard",
    "kernelspec": {
      "display_name": "Python 3",
      "name": "python3"
    },
    "language_info": {
      "name": "python"
    }
  },
  "nbformat": 4,
  "nbformat_minor": 0
}